{
 "cells": [
  {
   "cell_type": "markdown",
   "metadata": {},
   "source": [
    "# Machine Learning Engineer Nanodegree\n",
    "## Supervised Learning\n",
    "## Project 2: Building a Student Intervention System"
   ]
  },
  {
   "cell_type": "markdown",
   "metadata": {},
   "source": [
    "Welcome to the second project of the Machine Learning Engineer Nanodegree! In this notebook, some template code has already been provided for you, and it will be your job to implement the additional functionality necessary to successfully complete this project. Sections that begin with **'Implementation'** in the header indicate that the following block of code will require additional functionality which you must provide. Instructions will be provided for each section and the specifics of the implementation are marked in the code block with a `'TODO'` statement. Please be sure to read the instructions carefully!\n",
    "\n",
    "In addition to implementing code, there will be questions that you must answer which relate to the project and your implementation. Each section where you will answer a question is preceded by a **'Question X'** header. Carefully read each question and provide thorough answers in the following text boxes that begin with **'Answer:'**. Your project submission will be evaluated based on your answers to each of the questions and the implementation you provide.  \n",
    "\n",
    ">**Note:** Code and Markdown cells can be executed using the **Shift + Enter** keyboard shortcut. In addition, Markdown cells can be edited by typically double-clicking the cell to enter edit mode."
   ]
  },
  {
   "cell_type": "markdown",
   "metadata": {},
   "source": [
    "### Question 1 - Classification vs. Regression\n",
    "*Your goal for this project is to identify students who might need early intervention before they fail to graduate. Which type of supervised learning problem is this, classification or regression? Why?*"
   ]
  },
  {
   "cell_type": "markdown",
   "metadata": {
    "collapsed": true
   },
   "source": [
    "Classification, as we have two discrete classes for various outcomes as comapared to continous outputs for regression.  "
   ]
  },
  {
   "cell_type": "markdown",
   "metadata": {},
   "source": [
    "## Exploring the Data\n",
    "Run the code cell below to load necessary Python libraries and load the student data. Note that the last column from this dataset, `'passed'`, will be our target label (whether the student graduated or didn't graduate). All other columns are features about each student."
   ]
  },
  {
   "cell_type": "code",
   "execution_count": 2,
   "metadata": {
    "collapsed": false
   },
   "outputs": [
    {
     "name": "stdout",
     "output_type": "stream",
     "text": [
      "Student data read successfully!\n",
      "['school', 'sex', 'age', 'address', 'famsize', 'Pstatus', 'Medu', 'Fedu', 'Mjob', 'Fjob', 'reason', 'guardian', 'traveltime', 'studytime', 'failures', 'schoolsup', 'famsup', 'paid', 'activities', 'nursery', 'higher', 'internet', 'romantic', 'famrel', 'freetime', 'goout', 'Dalc', 'Walc', 'health', 'absences']\n"
     ]
    }
   ],
   "source": [
    "# Import libraries\n",
    "import numpy as np\n",
    "import pandas as pd\n",
    "import matplotlib.pyplot as plt\n",
    "from time import time\n",
    "from sklearn.metrics import f1_score\n",
    "from pandas.tools.plotting import scatter_matrix\n",
    "from sklearn import preprocessing\n",
    "from IPython.display import display\n",
    "from statsmodels.graphics.mosaicplot import mosaic\n",
    "\n",
    "# Read student data\n",
    "student_data = pd.read_csv(\"student-data.csv\")\n",
    "#print(student_data.head(2))\n",
    "\n",
    "\n",
    "def handle_non_numeric_data(df):\n",
    "    columns=df.columns.values\n",
    "    for column in columns:\n",
    "       if (df[column].dtype != np.int64 or df[column].dtype != np.float):\n",
    "        le = preprocessing.LabelEncoder()\n",
    "        le.fit(df[column])\n",
    "        list(le.classes_)\n",
    "        df[column]=le.transform(df[column])\n",
    "        #print \"Column\", column, \"List\", list(le.classes_)\n",
    "\n",
    "    return\n",
    "\n",
    "#display(student_data)\n",
    "\n",
    "print \"Student data read successfully!\"\n",
    "\n",
    "# read data in plot_student_data for plotting in \n",
    "\n",
    "\n",
    "feature_cols = list(student_data.columns[:-1])\n",
    "print feature_cols\n",
    "plt.rcParams['font.size'] = 8.0\n",
    "\n",
    "\n",
    "#for i, feature in enumerate(feature_cols):\n",
    "#    print i ,feature\n",
    "#    mosaic(student_data, [feature,'passed']);\n",
    "#    #student_data.groupby(feature).size().plot(kind='bar')\n",
    "#    plt.xlabel(feature)\n",
    "#    plt.show()"
   ]
  },
  {
   "cell_type": "markdown",
   "metadata": {},
   "source": [
    "### Implementation: Data Exploration\n",
    "Let's begin by investigating the dataset to determine how many students we have information on, and learn about the graduation rate among these students. In the code cell below, you will need to compute the following:\n",
    "- The total number of students, `n_students`.\n",
    "- The total number of features for each student, `n_features`.\n",
    "- The number of those students who passed, `n_passed`.\n",
    "- The number of those students who failed, `n_failed`.\n",
    "- The graduation rate of the class, `grad_rate`, in percent (%).\n"
   ]
  },
  {
   "cell_type": "code",
   "execution_count": 3,
   "metadata": {
    "collapsed": false
   },
   "outputs": [
    {
     "name": "stdout",
     "output_type": "stream",
     "text": [
      "Total number of students: 395\n",
      "Number of features: 30\n",
      "Number of students who passed: 265.0\n",
      "Number of students who failed: 130.0\n",
      "Graduation rate of the class: 67.09%\n"
     ]
    }
   ],
   "source": [
    "#print student_data.head(2)\n",
    "#features=student_data.drop(['passed'],axis=1)\n",
    "#result=student_data['passed']\n",
    "\n",
    "#print features.head(2)\n",
    "#print result.shape[0] \n",
    "\n",
    "# TODO: Calculate number of students\n",
    "n_students = student_data.shape[0] \n",
    "\n",
    "# TODO: Calculate number of features\n",
    "#n_features = features.shape[1]\n",
    "n_features = student_data.shape[1] -1\n",
    "\n",
    "\n",
    "# TODO: Calculate passing students\n",
    "n_passed = n_students *student_data['passed'].value_counts('yes')[0]\n",
    "\n",
    "# TODO: Calculate failing students\n",
    "n_failed = n_students*student_data['passed'].value_counts('no')[1]\n",
    "\n",
    "# TODO: Calculate graduation rate\n",
    "grad_rate = student_data['passed'].value_counts('yes')[0]*100.0\n",
    "\n",
    "# Print the results\n",
    "print \"Total number of students: {}\".format(n_students)\n",
    "print \"Number of features: {}\".format(n_features)\n",
    "print \"Number of students who passed: {}\".format(n_passed)\n",
    "print \"Number of students who failed: {}\".format(n_failed)\n",
    "print \"Graduation rate of the class: {:.2f}%\".format(grad_rate)\n",
    "\n",
    "\n",
    "    "
   ]
  },
  {
   "cell_type": "markdown",
   "metadata": {},
   "source": [
    "## Preparing the Data\n",
    "In this section, we will prepare the data for modeling, training and testing.\n",
    "\n",
    "### Identify feature and target columns\n",
    "It is often the case that the data you obtain contains non-numeric features. This can be a problem, as most machine learning algorithms expect numeric data to perform computations with.\n",
    "\n",
    "Run the code cell below to separate the student data into feature and target columns to see if any features are non-numeric."
   ]
  },
  {
   "cell_type": "code",
   "execution_count": 4,
   "metadata": {
    "collapsed": false
   },
   "outputs": [
    {
     "name": "stdout",
     "output_type": "stream",
     "text": [
      "Feature columns:\n",
      "['school', 'sex', 'age', 'address', 'famsize', 'Pstatus', 'Medu', 'Fedu', 'Mjob', 'Fjob', 'reason', 'guardian', 'traveltime', 'studytime', 'failures', 'schoolsup', 'famsup', 'paid', 'activities', 'nursery', 'higher', 'internet', 'romantic', 'famrel', 'freetime', 'goout', 'Dalc', 'Walc', 'health', 'absences']\n",
      "\n",
      "Target column: passed\n",
      "\n",
      "Feature values:\n",
      "  school sex  age address famsize Pstatus  Medu  Fedu     Mjob      Fjob  \\\n",
      "0     GP   F   18       U     GT3       A     4     4  at_home   teacher   \n",
      "1     GP   F   17       U     GT3       T     1     1  at_home     other   \n",
      "2     GP   F   15       U     LE3       T     1     1  at_home     other   \n",
      "3     GP   F   15       U     GT3       T     4     2   health  services   \n",
      "4     GP   F   16       U     GT3       T     3     3    other     other   \n",
      "\n",
      "    ...    higher internet  romantic  famrel  freetime goout Dalc Walc health  \\\n",
      "0   ...       yes       no        no       4         3     4    1    1      3   \n",
      "1   ...       yes      yes        no       5         3     3    1    1      3   \n",
      "2   ...       yes      yes        no       4         3     2    2    3      3   \n",
      "3   ...       yes      yes       yes       3         2     2    1    1      5   \n",
      "4   ...       yes       no        no       4         3     2    1    2      5   \n",
      "\n",
      "  absences  \n",
      "0        6  \n",
      "1        4  \n",
      "2       10  \n",
      "3        2  \n",
      "4        4  \n",
      "\n",
      "[5 rows x 30 columns]\n",
      "\n",
      "Target values:\n",
      "0     no\n",
      "1     no\n",
      "2    yes\n",
      "3    yes\n",
      "4    yes\n",
      "Name: passed, dtype: object\n"
     ]
    }
   ],
   "source": [
    "# Extract feature columns\n",
    "feature_cols = list(student_data.columns[:-1])\n",
    "\n",
    "# Extract target column 'passed'\n",
    "target_col = student_data.columns[-1] \n",
    "\n",
    "# Show the list of columns\n",
    "print \"Feature columns:\\n{}\".format(feature_cols)\n",
    "print \"\\nTarget column: {}\".format(target_col)\n",
    "\n",
    "# Separate the data into feature data and target data (X_all and y_all, respectively)\n",
    "X_all = student_data[feature_cols]\n",
    "y_all = student_data[target_col]\n",
    "\n",
    "# Show the feature information by printing the first five rows\n",
    "print \"\\nFeature values:\"\n",
    "print X_all.head(5)\n",
    "\n",
    "print \"\\nTarget values:\"\n",
    "print y_all.head(5)\n",
    "\n",
    "#le = preprocessing.LabelEncoder()\n",
    "#le.fit(y_all)\n",
    "#y_all=le.transform(y_all)\n",
    "\n",
    "\n",
    "#X_all_copy=X_all\n",
    "\n",
    "##Print features & classes of each feature\n",
    "#for feature_type in feature_cols:\n",
    "# le = preprocessing.LabelEncoder()\n",
    "# le.fit(X_all_copy[feature_type])\n",
    "# X_all_copy[feature_type]=le.transform(X_all_copy[feature_type])   \n",
    "# print feature_type, list(le.classes_)\n",
    "   \n",
    " \n",
    " \n"
   ]
  },
  {
   "cell_type": "markdown",
   "metadata": {},
   "source": [
    "### Preprocess Feature Columns\n",
    "\n",
    "As you can see, there are several non-numeric columns that need to be converted! Many of them are simply `yes`/`no`, e.g. `internet`. These can be reasonably converted into `1`/`0` (binary) values.\n",
    "\n",
    "Other columns, like `Mjob` and `Fjob`, have more than two values, and are known as _categorical variables_. The recommended way to handle such a column is to create as many columns as possible values (e.g. `Fjob_teacher`, `Fjob_other`, `Fjob_services`, etc.), and assign a `1` to one of them and `0` to all others.\n",
    "\n",
    "These generated columns are sometimes called _dummy variables_, and we will use the [`pandas.get_dummies()`](http://pandas.pydata.org/pandas-docs/stable/generated/pandas.get_dummies.html?highlight=get_dummies#pandas.get_dummies) function to perform this transformation. Run the code cell below to perform the preprocessing routine discussed in this section."
   ]
  },
  {
   "cell_type": "code",
   "execution_count": 5,
   "metadata": {
    "collapsed": false,
    "scrolled": true
   },
   "outputs": [
    {
     "name": "stdout",
     "output_type": "stream",
     "text": [
      "Processed feature columns (48):-\n",
      "['school_GP', 'school_MS', 'sex_F', 'sex_M', 'age', 'address_R', 'address_U', 'famsize_GT3', 'famsize_LE3', 'Pstatus_A', 'Pstatus_T', 'Medu', 'Fedu', 'Mjob_at_home', 'Mjob_health', 'Mjob_other', 'Mjob_services', 'Mjob_teacher', 'Fjob_at_home', 'Fjob_health', 'Fjob_other', 'Fjob_services', 'Fjob_teacher', 'reason_course', 'reason_home', 'reason_other', 'reason_reputation', 'guardian_father', 'guardian_mother', 'guardian_other', 'traveltime', 'studytime', 'failures', 'schoolsup', 'famsup', 'paid', 'activities', 'nursery', 'higher', 'internet', 'romantic', 'famrel', 'freetime', 'goout', 'Dalc', 'Walc', 'health', 'absences']\n"
     ]
    }
   ],
   "source": [
    "# Preprocess feature columns\n",
    "def preprocess_features(X):\n",
    "    outX = pd.DataFrame(index=X.index)  # output dataframe, initially empty\n",
    "\n",
    "    # Check each column\n",
    "    for col, col_data in X.iteritems():\n",
    "        # If data type is non-numeric, try to replace all yes/no values with 1/0\n",
    "        if col_data.dtype == object:\n",
    "            col_data = col_data.replace(['yes', 'no'], [1, 0])\n",
    "        # Note: This should change the data type for yes/no columns to int\n",
    "\n",
    "        # If still non-numeric, convert to one or more dummy variables\n",
    "        if col_data.dtype == object:\n",
    "            col_data = pd.get_dummies(col_data, prefix=col)  # e.g. 'school' => 'school_GP', 'school_MS'\n",
    "\n",
    "        outX = outX.join(col_data)  # collect column(s) in output dataframe\n",
    "\n",
    "    return outX\n",
    "\n",
    "X_all = preprocess_features(X_all)\n",
    "print \"Processed feature columns ({}):-\\n{}\".format(len(X_all.columns), list(X_all.columns))\n",
    "y_all = y_all.replace(['yes', 'no'], [1, 0]) # changed to enable f1 scoring during grid search\n",
    "\n",
    "#feature_col=list(X_all.columns[:])\n",
    "#print feature_col \n",
    "#for i, feature in enumerate(feature_col):\n",
    "#    print i ,feature\n",
    "\n",
    "#feature_cols = list(X_all.columns[:-1])\n",
    "\n",
    "##for feature_type in feature_cols:\n",
    "# le = preprocessing.LabelEncoder()\n",
    "# le.fit(X_all[feature_type])\n",
    "# print feature_type, list(le.classes_)\n",
    "# X=X_all[feature_type];\n",
    "# print X \n",
    "# index_pass=\n",
    "# plt.scatter(X, y_all, marker=\">\")\n",
    "# plt.show()   \n",
    "   \n",
    "#le = preprocessing.LabelEncoder()\n",
    "#le.fit(y_all)\n",
    "#list(le.classes_)\n",
    "#y_all=le.transform(y_all)\n",
    "#print y_all\n",
    "\n",
    "#print \"Processed feature columns ({} total features):\\n{}\".format(len(X_all.columns), list(X_all.columns))\n"
   ]
  },
  {
   "cell_type": "markdown",
   "metadata": {},
   "source": [
    "### Implementation: Training and Testing Data Split\n",
    "So far, we have converted all _categorical_ features into numeric values. For the next step, we split the data (both features and corresponding labels) into training and test sets. In the following code cell below, you will need to implement the following:\n",
    "- Randomly shuffle and split the data (`X_all`, `y_all`) into training and testing subsets.\n",
    "  - Use 300 training points (approximately 75%) and 95 testing points (approximately 25%).\n",
    "  - Set a `random_state` for the function(s) you use, if provided.\n",
    "  - Store the results in `X_train`, `X_test`, `y_train`, and `y_test`."
   ]
  },
  {
   "cell_type": "code",
   "execution_count": 15,
   "metadata": {
    "collapsed": false
   },
   "outputs": [
    {
     "name": "stdout",
     "output_type": "stream",
     "text": [
      "Training set has 316 samples.\n",
      "Testing set has 79 samples.\n"
     ]
    }
   ],
   "source": [
    "# TODO: Import any additional functionality you may need here\n",
    "from sklearn.cross_validation import train_test_split\n",
    "\n",
    "# TODO: Set the number of training points\n",
    "num_train = 0.8*X_all.shape[0]\n",
    "\n",
    "# Set the number of testing points\n",
    "num_test = X_all.shape[0] - num_train\n",
    "test_size=num_test/(num_test+num_train)\n",
    "\n",
    "\n",
    "X_train, X_test, y_train, y_test = train_test_split(X_all,y_all,test_size=test_size, random_state=10)\n",
    "#X_train, X_test, y_train, y_test = train_test_split(X_all,y_all,test_size=test_size, stratify=y_all,random_state=10)\n",
    "\n",
    "\n",
    "# Show the results of the split\n",
    "print \"Training set has {} samples.\".format(X_train.shape[0])\n",
    "print \"Testing set has {} samples.\".format(X_test.shape[0])\n",
    "\n",
    "#print \"\\n X-train\", X_train.head(2)\n",
    "#print \"\\n X-test\", X_test.head(2)\n",
    "#print \"\\n Y-train\", y_train.head(2)\n",
    "#print \"\\n Y-test\", y_test.head(2)"
   ]
  },
  {
   "cell_type": "markdown",
   "metadata": {},
   "source": [
    "## Training and Evaluating Models\n",
    "In this section, you will choose 3 supervised learning models that are appropriate for this problem and available in `scikit-learn`. You will first discuss the reasoning behind choosing these three models by considering what you know about the data and each model's strengths and weaknesses. You will then fit the model to varying sizes of training data (100 data points, 200 data points, and 300 data points) and measure the F<sub>1</sub> score. You will need to produce three tables (one for each model) that shows the training set size, training time, prediction time, F<sub>1</sub> score on the training set, and F<sub>1</sub> score on the testing set.\n",
    "\n",
    "**The following supervised learning models are currently available in** [`scikit-learn`](http://scikit-learn.org/stable/supervised_learning.html) **that you may choose from:**\n",
    "- Gaussian Naive Bayes (GaussianNB)\n",
    "- Decision Trees\n",
    "- Ensemble Methods (Bagging, AdaBoost, Random Forest, Gradient Boosting)\n",
    "- K-Nearest Neighbors (KNeighbors)\n",
    "- Stochastic Gradient Descent (SGDC)\n",
    "- Support Vector Machines (SVM)\n",
    "- Logistic Regression"
   ]
  },
  {
   "cell_type": "markdown",
   "metadata": {},
   "source": [
    "### Question 2 - Model Application\n",
    "*List three supervised learning models that are appropriate for this problem. For each model chosen*\n",
    "- Describe one real-world application in industry where the model can be applied. *(You may need to do a small bit of research for this — give references!)* \n",
    "- What are the strengths of the model; when does it perform well? \n",
    "- What are the weaknesses of the model; when does it perform poorly?\n",
    "- What makes this model a good candidate for the problem, given what you know about the data?"
   ]
  },
  {
   "cell_type": "markdown",
   "metadata": {},
   "source": [
    "### I consider following three supervised learning models for this classification problem.\n",
    "\n",
    "1. Decision Trees.\n",
    "2. SVM.\n",
    "3. Naive Bayes classification\n",
    "\n",
    "# Decision trees \n",
    "Decision trees are non-parametrized supervised learning methods, can be used for both classification & regression.\n",
    "This method is really good for cases where ability to explain the critieria for classification matters more than accuracy. For example in identifying customer segments from given marketing survey, it is important to have the classification knowledge in human usable form, which can be validated as per the experience of a professional in that area & practically used. This is different from the abstract classification done by the neural networks.\n",
    "\n",
    "#### Strengths of Decision trees\n",
    "1. Generate intutive rules for classification.\n",
    "2. Computationaly inexpensive for classification of new test samples.\n",
    "3. Best works for instances represented by (attribute,value) pair when value take discrete values. Example (attribute=Color, Value=red,yellow,white)\n",
    "4. Can handle instances with continous values. Discretize based on thresholds that gives best classification of target attribute. \n",
    "5. Can handle well error in data. It uses all training examples at each step to refine current hypothesis, so less sensitive to error/noise in data.\n",
    "\n",
    "#### Weaknesses of Decision trees\n",
    "1. Can overfit the data, grow deep enough to classify each training example. \n",
    " ..1.Remedy to stop growing beyond a depth. Generally not used as difficult to know when to stop growing the tree.\n",
    " ..2.Prune the tree. Best strategy, might lead to increased error. Pruning is guided by testing the pruned tree on     test data. Use pruning which leads to minimum loss in accuracy.\n",
    "2. Can overfit if number of training samples small as compared to attributes. Not suitable for these problems.\n",
    "3. Not good for predicitng the continous attributes.\n",
    "4. Comptationally expensive to train O(N*V^2) where N=number of training examples, V=Number of features in a   \n",
    "   training example. The training samples need to be sorted as each node is split. Pruning   \n",
    "   algorithms are expensive, form & test new sub trees.\n",
    "5. Classification regions are rectangular boxes, don't fit well to problems with non-rectangular classification  \n",
    "   boxes.\n",
    "     \n",
    "The problem at hand is typical classification problem with discrete (attibute,value) pairs & discrete target attribute. Ratio of training samples to attribute is quite low, means there could be overfit proble. But we chose this startegy as it provide us visible intution on the most important attributes for clasiification. We could try to tackle the overfitting further using crossvalidation & pruning. \n",
    "     \n",
    "Reference\n",
    "1. Sklearn documentation.\n",
    "2. Machine Learning by Tom Mitchell\n",
    "3. Udacity  course notes\n",
    "4. http://web.cs.ucdavis.edu/~vemuri/classes/ecs271/Decision%20Trees-Overview.htm\n",
    "\n",
    "\n",
    "# Naive Bayes classifier\n",
    "\n",
    "It's a probabilistic classifier based on assumption that all the attributes of training set are independent of each other. It finds application in text classification problems, where given instances of text documents they need to classified in various categories. This application doesn't really satisfy the naive independent criteria for attributes of the input instances. However as described in this paper (http://www.aaai.org/Papers/FLAIRS/2004/Flairs04-097.pdf), the uniform distribution of interdependence between attributes of input instance cancels resulting in good performance for text classification problems. However they might not perform good if interdependence is lop-sided towards few input attributes.    \n",
    "\n",
    "#### Stengths of GNB\n",
    "1. Require small amount of training data.\n",
    "2. EXtremely fast due to assumption of decoupled feature distribution. Each feature distribution can be independently estimated. This alleviate the curse of dimensioanlity.\n",
    "3. Can be updated on fly for each training data. good for streaming data.\n",
    "\n",
    "#### Weaknesses\n",
    "1. GNB assumes no dependence between attributes of training set.  \n",
    "2 .Side-effect of above limitation it can’t learn interactions between features. \n",
    "\n",
    "We chose GNB as one option for the atudent classificatin problem due to its computation speed & abiltiy to work on small training set.\n",
    "\n",
    "Reference\n",
    "1. Sklearn documentation.\n",
    "2. Machine Learning by Tom Mitchell\n",
    "3. Udacity  course notes\n",
    "4. http://web.cs.ucdavis.edu/~vemuri/classes/ecs271/Decision%20Trees-Overview.htm\n",
    "5. stackflow\n",
    "6. wiki\n",
    "\n",
    "# SVM\n",
    "Supervised learning algorithm used for classification & regression. The data points are p-dimensional vectors mapped to two different categories. SVM finds a linear classifier which is p-1 dimensional hyperplane taht maximizes the margin between two classes.\n",
    "\n",
    "It is used for image classification problems, where mxn pixel image is a mxn dimensional input vector which is classified in two/more classes. Multi class classification is extension of binary SVM with one class vs all classes.\n",
    "\n",
    "\n",
    "#### Advantages\n",
    "1. effective in high dimensional space, large number of features.\n",
    "2. effective even when number of dimensions greater than number of samples.\n",
    "3. use subset of training data in decision making(one close to decision boundary) known as support vectors.Memory efficient in terms of storage.\n",
    "4. Versatile for non-linear hyperplanes using kernel tricks.\n",
    "\n",
    "\n",
    "#### Dis-advatnages\n",
    "1. SVM is binary classification. Multi-class classification possible as eaxtension of one class vs. all other \n",
    "   classes classification.\n",
    "2. Biased if kernel is incorrect\n",
    "3. Computationally expensive.\n",
    "\n",
    "SVM works great in high dimensional space. In our case features are less than number of samples but our data set contains lot of features relative to size of data-set. This is one main reason to chose SVM.\n",
    "\n",
    "\n",
    "Reference\n",
    "1. Sklearn documentation.\n",
    "2. Udacity  course notes\n",
    "3. stackflow\n",
    "4. wiki\n",
    "\n",
    "\n"
   ]
  },
  {
   "cell_type": "markdown",
   "metadata": {},
   "source": [
    "### Setup\n",
    "Run the code cell below to initialize three helper functions which you can use for training and testing the three supervised learning models you've chosen above. The functions are as follows:\n",
    "- `train_classifier` - takes as input a classifier and training data and fits the classifier to the data.\n",
    "- `predict_labels` - takes as input a fit classifier, features, and a target labeling and makes predictions using the F<sub>1</sub> score.\n",
    "- `train_predict` - takes as input a classifier, and the training and testing data, and performs `train_clasifier` and `predict_labels`.\n",
    " - This function will report the F<sub>1</sub> score for both the training and testing data separately."
   ]
  },
  {
   "cell_type": "code",
   "execution_count": 16,
   "metadata": {
    "collapsed": false
   },
   "outputs": [],
   "source": [
    "from time import time\n",
    "from sklearn import tree\n",
    "from sklearn.externals.six import StringIO  \n",
    "import pydotplus\n",
    "\n",
    "def train_classifier(clf, X_train, y_train):\n",
    "    ''' Fits a classifier to the training data. '''\n",
    "    \n",
    "    # Start the clock, train the classifier, then stop the clock\n",
    "    start = time()\n",
    "    clf.fit(X_train, y_train)\n",
    "    end = time()\n",
    "    \n",
    "    # Print the results\n",
    "    print \"Trained model in {:.4f} seconds\".format(end - start)\n",
    "\n",
    "    \n",
    "def predict_labels(clf, features, target):\n",
    "    ''' Makes predictions using a fit classifier based on F1 score. '''\n",
    "    \n",
    "    # Start the clock, make predictions, then stop the clock\n",
    "    start = time()\n",
    "    y_pred = clf.predict(features)\n",
    "    end = time()\n",
    "    #print \"\\n target\" ,target.values\n",
    "    #print \"\\n prediction\", y_pred\n",
    "    \n",
    "    # Print and return results\n",
    "    print \"Made predictions in {:.4f} seconds.\".format(end - start)\n",
    "    return f1_score(target.values, y_pred, pos_label=1)\n",
    "\n",
    "\n",
    "def train_predict(clf, X_train, y_train, X_test, y_test):\n",
    "    ''' Train and predict using a classifer based on F1 score. '''\n",
    "    \n",
    "    # Indicate the classifier and the training set size\n",
    "    print \"Training a {} using a training set size of {}. . .\".format(clf.__class__.__name__, len(X_train))\n",
    "    \n",
    "    # Train the classifier\n",
    "    \n",
    "    train_classifier(clf, X_train, y_train)\n",
    "    #print clf\n",
    "    if \"Decision\" in (clf.__class__.__name__):\n",
    "     tree.export_graphviz(clf,out_file='tree.dot')    \n",
    "     dot_data = StringIO() \n",
    "     tree.export_graphviz(clf, out_file=dot_data) \n",
    "     graph = pydotplus.graph_from_dot_data(dot_data.getvalue()) \n",
    "     graph.write_pdf(\"ouput.pdf\")\n",
    "    \n",
    "    # Print the results of prediction for both training and testing\n",
    "    print \"F1 score for training set: {:.4f}.\".format(predict_labels(clf, X_train, y_train))\n",
    "    print \"F1 score for test set: {:.4f}.\".format(predict_labels(clf, X_test, y_test))\n",
    "    \n",
    "\n",
    "\n"
   ]
  },
  {
   "cell_type": "markdown",
   "metadata": {},
   "source": [
    "### Implementation: Model Performance Metrics\n",
    "With the predefined functions above, you will now import the three supervised learning models of your choice and run the `train_predict` function for each one. Remember that you will need to train and predict on each classifier for three different training set sizes: 100, 200, and 300. Hence, you should expect to have 9 different outputs below — 3 for each model using the varying training set sizes. In the following code cell, you will need to implement the following:\n",
    "- Import the three supervised learning models you've discussed in the previous section.\n",
    "- Initialize the three models and store them in `clf_A`, `clf_B`, and `clf_C`.\n",
    " - Use a `random_state` for each model you use, if provided.\n",
    " - **Note:** Use the default settings for each model — you will tune one specific model in a later section.\n",
    "- Create the different training set sizes to be used to train each model.\n",
    " - *Do not reshuffle and resplit the data! The new training points should be drawn from `X_train` and `y_train`.*\n",
    "- Fit each model with each training set size and make predictions on the test set (9 in total).  \n",
    "**Note:** Three tables are provided after the following code cell which can be used to store your results."
   ]
  },
  {
   "cell_type": "code",
   "execution_count": 17,
   "metadata": {
    "collapsed": false,
    "scrolled": true
   },
   "outputs": [
    {
     "name": "stdout",
     "output_type": "stream",
     "text": [
      "\n",
      "DecisionTreeClassifier: \n",
      "\n",
      "Training a DecisionTreeClassifier using a training set size of 100. . .\n",
      "Trained model in 0.0027 seconds\n",
      "Made predictions in 0.0007 seconds.\n",
      "F1 score for training set: 1.0000.\n",
      "Made predictions in 0.0003 seconds.\n",
      "F1 score for test set: 0.7818.\n",
      "Training a DecisionTreeClassifier using a training set size of 200. . .\n",
      "Trained model in 0.0024 seconds\n",
      "Made predictions in 0.0008 seconds.\n",
      "F1 score for training set: 1.0000.\n",
      "Made predictions in 0.0003 seconds.\n",
      "F1 score for test set: 0.7843.\n",
      "Training a DecisionTreeClassifier using a training set size of 300. . .\n",
      "Trained model in 0.0032 seconds\n",
      "Made predictions in 0.0008 seconds.\n",
      "F1 score for training set: 1.0000.\n",
      "Made predictions in 0.0003 seconds.\n",
      "F1 score for test set: 0.7027.\n",
      "\n",
      "GaussianNB: \n",
      "\n",
      "Training a GaussianNB using a training set size of 100. . .\n",
      "Trained model in 0.0011 seconds\n",
      "Made predictions in 0.0005 seconds.\n",
      "F1 score for training set: 0.7969.\n",
      "Made predictions in 0.0005 seconds.\n",
      "F1 score for test set: 0.8148.\n",
      "Training a GaussianNB using a training set size of 200. . .\n",
      "Trained model in 0.0011 seconds\n",
      "Made predictions in 0.0006 seconds.\n",
      "F1 score for training set: 0.8030.\n",
      "Made predictions in 0.0005 seconds.\n",
      "F1 score for test set: 0.7895.\n",
      "Training a GaussianNB using a training set size of 300. . .\n",
      "Trained model in 0.0013 seconds\n",
      "Made predictions in 0.0007 seconds.\n",
      "F1 score for training set: 0.7813.\n",
      "Made predictions in 0.0005 seconds.\n",
      "F1 score for test set: 0.7965.\n",
      "\n",
      "SVC: \n",
      "\n",
      "Training a SVC using a training set size of 100. . .\n",
      "Trained model in 0.0024 seconds\n",
      "Made predictions in 0.0015 seconds.\n",
      "F1 score for training set: 0.8280.\n",
      "Made predictions in 0.0013 seconds.\n",
      "F1 score for test set: 0.8154.\n",
      "Training a SVC using a training set size of 200. . .\n",
      "Trained model in 0.0071 seconds\n",
      "Made predictions in 0.0049 seconds.\n",
      "F1 score for training set: 0.8516.\n",
      "Made predictions in 0.0021 seconds.\n",
      "F1 score for test set: 0.7937.\n",
      "Training a SVC using a training set size of 300. . .\n",
      "Trained model in 0.0133 seconds\n",
      "Made predictions in 0.0101 seconds.\n",
      "F1 score for training set: 0.8534.\n",
      "Made predictions in 0.0029 seconds.\n",
      "F1 score for test set: 0.7937.\n"
     ]
    }
   ],
   "source": [
    "# TODO: Import the three supervised learning models from sklearn\n",
    "# from sklearn import model_A\n",
    "# from sklearn import model_B\n",
    "# from skearln import model_C\n",
    "from sklearn.tree import DecisionTreeClassifier\n",
    "from sklearn.naive_bayes import GaussianNB\n",
    "from sklearn import svm\n",
    "\n",
    "# TODO: Initialize the three models\n",
    "clf_A = DecisionTreeClassifier(random_state=0);\n",
    "clf_B = GaussianNB()\n",
    "clf_C = svm.SVC(random_state=0)\n",
    "\n",
    "for clf in [clf_A,clf_B,clf_C]:\n",
    "\n",
    "    # show the estimator type\n",
    "    print \"\\n{}: \\n\".format(clf.__class__.__name__)\n",
    "\n",
    "    # TODO: loop thru training sizes\n",
    "    for n in [100,200,300]:\n",
    "\n",
    "        # create training data from first 100, then 200, then 300 points\n",
    "        train_predict(clf, X_train[:n], y_train[:n], X_test, y_test)\n",
    "\n",
    "\n"
   ]
  },
  {
   "cell_type": "markdown",
   "metadata": {},
   "source": [
    "### Tabular Results\n",
    "Edit the cell below to see how a table can be designed in [Markdown](https://github.com/adam-p/markdown-here/wiki/Markdown-Cheatsheet#tables). You can record your results from above in the tables provided."
   ]
  },
  {
   "cell_type": "markdown",
   "metadata": {},
   "source": [
    "###### Decision Trees \n",
    "###### Random_state=0\n",
    "\n",
    "| Training Set Size | Training Time | Prediction Time (test) | F1 Score (train) | F1 Score (test) |\n",
    "| :---------------: | :---------------------: | :--------------------: | :--------------: | :-------------: |\n",
    "| 100               |             0.0027      |     0.0003             |  1.0000          |     0.7818      |\n",
    "| 200               |        0.0025           |     0.0004             |  1.0000          |     0.7843      |\n",
    "| 300               |        0.0033           |     0.0003             |  1.0000          |    0.7027      |\n",
    "\n",
    "###### Naive Bayes\n",
    "\n",
    "| Training Set Size | Training Time | Prediction Time (test) | F1 Score (train) | F1 Score (test) |\n",
    "| :---------------: | :---------------------: | :--------------------: | :--------------: | :-------------: |\n",
    "| 100               |    0.0012           |       0.0005                 |   0.7969        |    0.8148           |\n",
    "| 200               |     0.0012             |    0.0005                |    0.8030        |   0.7895         |\n",
    "| 300               |     0.0013             |     0.0005                   |   0.7813     |     0.7965     |\n",
    "\n",
    "\n",
    "###### SVM\n",
    "###### Random_state=0\n",
    "\n",
    "| Training Set Size | Training Time | Prediction Time (test) | F1 Score (train) | F1 Score (test) |\n",
    "| :---------------: | :---------------------: | :--------------------: | :--------------: | :-------------: |\n",
    "| 100               |     0.0327              |   0.0013               | 0.8280           |    0.8154       |\n",
    "| 200               |     0.0067              |  0.0022                |  0.8516          |    0.7937       |\n",
    "| 300               |     0.0136              |  0.0029                |   0.8534            |    0.7937       |\n",
    "\n"
   ]
  },
  {
   "cell_type": "markdown",
   "metadata": {},
   "source": [
    "## Choosing the Best Model\n",
    "In this final section, you will choose from the three supervised learning models the *best* model to use on the student data. You will then perform a grid search optimization for the model over the entire training set (`X_train` and `y_train`) by tuning at least one parameter to improve upon the untuned model's F<sub>1</sub> score. "
   ]
  },
  {
   "cell_type": "markdown",
   "metadata": {},
   "source": [
    "### Question 3 - Choosing the Best Model\n",
    "*Based on the experiments you performed earlier, in one to two paragraphs, explain to the board of supervisors what single model you chose as the best model. Which model is generally the most appropriate based on the available data, limited resources, cost, and performance?*"
   ]
  },
  {
   "cell_type": "markdown",
   "metadata": {},
   "source": [
    "Based on above data both Decision tree & Naive Bayes seems good candidate to classify the student_data, based on training time & final F1_score on the test data. I chose decision tree over Naive bayes as the output model of decion tree is much intutive and can be used for understanding the data characteristics. One observation is decision tree with deafult hyperparameters seems to be overfitting the data, as F1_score of training data is quite high & there is divergence in the test & training score. I assume this will be corrected, if I further experiment with optimal parameters for Decision Trees. \n",
    "\n",
    "SVM are quite costly in terms of training time, so not good candidate for limited computation environment. "
   ]
  },
  {
   "cell_type": "markdown",
   "metadata": {},
   "source": [
    "### Question 4 - Model in Layman's Terms\n",
    "*In one to two paragraphs, explain to the board of directors in layman's terms how the final model chosen is supposed to work. Be sure that you are describing the major qualities of the model, such as how the model is trained and how the model makes a prediction. Avoid using advanced mathematical or technical jargon, such as describing equations or discussing the algorithm implementation.*"
   ]
  },
  {
   "cell_type": "markdown",
   "metadata": {},
   "source": [
    "Decision trees models are used for classifying the discrete data. The resulting model is in terms of if else statements that provides intutive details about characteristics of underlying data. The sequence of if-else decisions are represented in the decision tree. \n",
    "\n",
    "For the student_data set the model could be as simple as dividing\n",
    "\n",
    "```python\n",
    "if (number of hours student study per day > some threshold)\n",
    "  classify as pass\n",
    "else  \n",
    "  classify as fail\n",
    "```\n",
    "\n",
    "The classifier works on given training data by chosing the best sequence in which attributes need to be checked to classify the data. The attribute selection is guided by the principle of maximizing information gain. Simply said we chose attributes which best seperates out the positive & negative samples. \n",
    "\n",
    "The classifier suffers from overfitting to the training data. In the worst case each leaf node would be containing single training data. This could be avoided by putting a constraint on the depth of tree or pruning the tree after the data classification is completed. Best method of avoiding overfitting is pruning the tree while testing it with test data,using the pruned tree which gives maximum test score.\n",
    "\n",
    "\n",
    "The classification is simple tree traversal along sequence of if-else statements from root to leaf.The output of model in sklearn can also be dumped as pdf, giving tree structure, attribute sequence used in classification with all detils of informatin gain & mean square error at each node.\n"
   ]
  },
  {
   "cell_type": "markdown",
   "metadata": {},
   "source": [
    "### Implementation: Model Tuning\n",
    "Fine tune the chosen model. Use grid search (`GridSearchCV`) with at least one important parameter tuned with at least 3 different values. You will need to use the entire training set for this. In the code cell below, you will need to implement the following:\n",
    "- Import [`sklearn.grid_search.gridSearchCV`](http://scikit-learn.org/stable/modules/generated/sklearn.grid_search.GridSearchCV.html) and [`sklearn.metrics.make_scorer`](http://scikit-learn.org/stable/modules/generated/sklearn.metrics.make_scorer.html).\n",
    "- Create a dictionary of parameters you wish to tune for the chosen model.\n",
    " - Example: `parameters = {'parameter' : [list of values]}`.\n",
    "- Initialize the classifier you've chosen and store it in `clf`.\n",
    "- Create the F<sub>1</sub> scoring function using `make_scorer` and store it in `f1_scorer`.\n",
    " - Set the `pos_label` parameter to the correct value!\n",
    "- Perform grid search on the classifier `clf` using `f1_scorer` as the scoring method, and store it in `grid_obj`.\n",
    "- Fit the grid search object to the training data (`X_train`, `y_train`), and store it in `grid_obj`."
   ]
  },
  {
   "cell_type": "code",
   "execution_count": 20,
   "metadata": {
    "collapsed": false
   },
   "outputs": [
    {
     "name": "stdout",
     "output_type": "stream",
     "text": [
      "DecisionTreeClassifier(class_weight=None, criterion='gini', max_depth=3,\n",
      "            max_features=None, max_leaf_nodes=47, min_samples_leaf=1,\n",
      "            min_samples_split=2, min_weight_fraction_leaf=0.0,\n",
      "            presort=False, random_state=None, splitter='best')\n",
      "Made predictions in 0.0006 seconds.\n",
      "Tuned model has a training F1 score of 0.8500.\n",
      "Made predictions in 0.0003 seconds.\n",
      "Tuned model has a testing F1 score of 0.8065.\n"
     ]
    }
   ],
   "source": [
    "\n",
    "# TODO: Import 'GridSearchCV' and 'make_scorer'\n",
    "from sklearn.cross_validation import cross_val_score\n",
    "from sklearn.grid_search import GridSearchCV\n",
    "from sklearn.metrics import r2_score\n",
    "from sklearn.metrics.scorer import make_scorer\n",
    "from sklearn.cross_validation import ShuffleSplit\n",
    "\n",
    "parameters = [{\n",
    "    'max_depth': np.arange(3,30,1),\n",
    "     'max_leaf_nodes' : np.arange(30,60,1)\n",
    "      }]\n",
    "\n",
    "# TODO: Initialize the classifier\n",
    "clf = DecisionTreeClassifier()\n",
    "cv_sets = ShuffleSplit(X_train.shape[0], n_iter = 10, test_size = 0.20, random_state = 0)\n",
    "\n",
    "# TODO: Make an f1 scoring function using 'make_scorer' \n",
    "f1_scorer = make_scorer(f1_score, pos_label=1)\n",
    "\n",
    "\n",
    "# TODO: Perform grid search on the classifier using the f1_scorer as the scoring method\n",
    "grid_obj = GridSearchCV(estimator=clf, param_grid=parameters, cv=cv_sets ,scoring=f1_scorer)\n",
    "\n",
    "# TODO: Fit the grid search object to the training data and find the optimal parameters\n",
    "grid_obj = grid_obj.fit(X_train, y_train)\n",
    "\n",
    "# Get the estimator\n",
    "clf = grid_obj.best_estimator_\n",
    "print clf\n",
    "# Report the final F1 score for training and testing after parameter tuning\n",
    "print \"Tuned model has a training F1 score of {:.4f}.\".format(predict_labels(clf, X_train, y_train))\n",
    "print \"Tuned model has a testing F1 score of {:.4f}.\".format(predict_labels(clf, X_test, y_test))\n"
   ]
  },
  {
   "cell_type": "markdown",
   "metadata": {},
   "source": [
    "### Question 5 - Final F<sub>1</sub> Score\n",
    "*What is the final model's F<sub>1</sub> score for training and testing? How does that score compare to the untuned model?*"
   ]
  },
  {
   "cell_type": "markdown",
   "metadata": {},
   "source": [
    "1. Final training score is 0.8310\n",
    "2. Final testing score is 0.8095\n",
    "\n",
    "The test score with tuned parameters is quite close to trainign score. This gives confidence that tree is not being overfitted as earlier with default hyperparameters where there was hugh divergence between training & test scores. \n",
    "\n"
   ]
  },
  {
   "cell_type": "markdown",
   "metadata": {},
   "source": [
    "> **Note**: Once you have completed all of the code implementations and successfully answered each question above, you may finalize your work by exporting the iPython Notebook as an HTML document. You can do this by using the menu above and navigating to  \n",
    "**File -> Download as -> HTML (.html)**. Include the finished document along with this notebook as your submission."
   ]
  }
 ],
 "metadata": {
  "kernelspec": {
   "display_name": "Python 2",
   "language": "python",
   "name": "python2"
  },
  "language_info": {
   "codemirror_mode": {
    "name": "ipython",
    "version": 2
   },
   "file_extension": ".py",
   "mimetype": "text/x-python",
   "name": "python",
   "nbconvert_exporter": "python",
   "pygments_lexer": "ipython2",
   "version": "2.7.12"
  }
 },
 "nbformat": 4,
 "nbformat_minor": 0
}
